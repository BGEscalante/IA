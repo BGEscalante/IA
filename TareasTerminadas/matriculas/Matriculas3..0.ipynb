{
 "cells": [
  {
   "cell_type": "code",
   "execution_count": 1,
   "id": "900c76cf",
   "metadata": {},
   "outputs": [],
   "source": [
    "#CARGA DE PAQUETES\n",
    "import cv2\n",
    "import pytesseract\n",
    "import matplotlib.pyplot as plt \n",
    "#para uso en windows \n",
    "pytesseract.pytesseract.tesseract_cmd = r'C:\\Program Files\\Tesseract-OCR\\tesseract.exe'\n"
   ]
  },
  {
   "cell_type": "code",
   "execution_count": 4,
   "id": "de2f0c00",
   "metadata": {},
   "outputs": [
    {
     "name": "stdout",
     "output_type": "stream",
     "text": [
      "Error: No se pudo leer la imagen.\n"
     ]
    }
   ],
   "source": [
    "image = cv2.imread('./imagenes/big_with_watermark_91.jpg')\n",
    "if image is None:\n",
    "    print(\"Error: No se pudo leer la imagen.\")\n",
    "else:\n",
    "    gray = cv2.cvtColor(image, cv2.COLOR_BGR2GRAY)\n",
    "    plt.imshow(gray, cmap='gray')\n",
    "    plt.show()"
   ]
  },
  {
   "cell_type": "code",
   "execution_count": null,
   "id": "47af9d40",
   "metadata": {
    "scrolled": true
   },
   "outputs": [],
   "source": [
    "thresholder = cv2.threshold(gray,0,255,cv2.THRESH_BINARY_INV | cv2.THRESH_OTSU)[1]\n"
   ]
  },
  {
   "cell_type": "code",
   "execution_count": null,
   "id": "ef190ef7",
   "metadata": {},
   "outputs": [],
   "source": [
    "plt.imshow(thresholder)"
   ]
  },
  {
   "cell_type": "code",
   "execution_count": null,
   "id": "e4b162a4",
   "metadata": {},
   "outputs": [],
   "source": [
    "dist = cv2.distanceTransform(thresholder, cv2.DIST_L2,5)\n",
    "dist = cv2.normalize(dist, dist, 0, 1.0, cv2.NORM_MINMAX)\n",
    "dist  = (dist*255).astype('uint8')\n",
    "plt.imshow(dist)"
   ]
  },
  {
   "cell_type": "code",
   "execution_count": null,
   "id": "a7bc6315",
   "metadata": {},
   "outputs": [],
   "source": [
    "dist = cv2.threshold(dist, 0, 255, cv2.THRESH_BINARY | cv2.THRESH_OTSU)[1]\n",
    "plt.imshow(dist)"
   ]
  },
  {
   "cell_type": "code",
   "execution_count": null,
   "id": "15107870",
   "metadata": {},
   "outputs": [],
   "source": [
    "kernel = cv2.getStructuringElement(cv2.MORPH_ELLIPSE,(7,7))\n",
    "opening = cv2.morphologyEx(dist,cv2.MORPH_OPEN,kernel)"
   ]
  },
  {
   "cell_type": "code",
   "execution_count": null,
   "id": "3bc2ab87",
   "metadata": {},
   "outputs": [],
   "source": [
    "plt.imshow(opening)"
   ]
  },
  {
   "cell_type": "code",
   "execution_count": null,
   "id": "5bf24388",
   "metadata": {
    "scrolled": true
   },
   "outputs": [],
   "source": [
    "import imutils"
   ]
  },
  {
   "cell_type": "code",
   "execution_count": null,
   "id": "d3f1104d",
   "metadata": {},
   "outputs": [],
   "source": [
    "contours = cv2.findContours(thresholder, cv2.RETR_EXTERNAL, cv2.CHAIN_APPROX_SIMPLE)\n",
    "contours = imutils.grab_contours(contours)\n",
    "\n",
    "chars = []\n",
    "for contour in contours:\n",
    "    x, y, w, h = cv2.boundingRect(contour)\n",
    "\n",
    "    # Solo los contornos grandes perdurarán, ya que corresponden a los números que nos interesan.\n",
    "    if w >= 50 and h >= 100:\n",
    "        chars.append(contour)\n",
    "\n",
    "import numpy as np\n",
    "chars = np.vstack([chars[i] for i in range(0, len(chars))])\n",
    "hull = cv2.convexHull(chars)\n",
    "\n",
    "chars = np.vstack([chars[i] for i in range(0, len(chars))])\n",
    "hull = cv2.convexHull(chars)\n",
    "\n",
    "# Creamos una máscara y la alargamos.\n",
    "mask = np.zeros(image.shape[:2], dtype='uint8')\n",
    "cv2.drawContours(mask, [hull], -1, 255, -1)\n",
    "mask = cv2.dilate(mask, None, iterations=2)\n",
    "plt.imshow(mask)\n",
    "\n",
    "# Aplicamos la máscara para aislar los números del fondo.\n",
    "final = cv2.bitwise_and(opening, opening, mask=mask)"
   ]
  },
  {
   "cell_type": "code",
   "execution_count": null,
   "id": "3b0bcbd9",
   "metadata": {},
   "outputs": [],
   "source": [
    "options = '-c tessedit_char_whitelist=0123456789'\n",
    "text = pytesseract.image_to_string(final, config=options)\n",
    "print(text)"
   ]
  },
  {
   "cell_type": "code",
   "execution_count": null,
   "id": "c69943bf",
   "metadata": {},
   "outputs": [],
   "source": []
  },
  {
   "cell_type": "code",
   "execution_count": null,
   "id": "9c208729",
   "metadata": {},
   "outputs": [],
   "source": []
  },
  {
   "cell_type": "code",
   "execution_count": null,
   "id": "387b853c",
   "metadata": {},
   "outputs": [],
   "source": []
  },
  {
   "cell_type": "code",
   "execution_count": null,
   "id": "a139aaff",
   "metadata": {},
   "outputs": [],
   "source": [
    "gray = cv2.blur(thresholder,(3,2))\n",
    "#canny lo paso a negro y resalto los bordes \n",
    "canny = cv2.Canny(gray,180,300)\n",
    "canny = cv2.dilate(thresholder,None,iterations=1)\n",
    "plt.imshow(thresholder,cmap='gray');"
   ]
  },
  {
   "cell_type": "code",
   "execution_count": null,
   "id": "69ea38a1",
   "metadata": {
    "scrolled": true
   },
   "outputs": [],
   "source": [
    "#Deteccion de contornos con openCV4 \n",
    "contorno, _ = cv2.findContours(canny, cv2.RETR_LIST,\n",
    "                              cv2.CHAIN_APPROX_SIMPLE) #CHAIN APROX SIMPLE DETECTA LINEAS IZQ Y DER\n",
    "plt.imshow(cv2.cvtColor(image,cv2.COLOR_BGR2RGB));"
   ]
  },
  {
   "cell_type": "code",
   "execution_count": null,
   "id": "97f2eb8e",
   "metadata": {},
   "outputs": [],
   "source": [
    "for c in contorno:\n",
    "    area = cv2.contourArea(c)\n",
    "    #print(area) #imprime todas las areas que se encuentran en la imagen \n",
    "    x,y,w,h = cv2.boundingRect(c)\n",
    "    epsilon = 0.09 * cv2.arcLength(c,True)\n",
    "    approx = cv2.approxPolyDP(c, epsilon, True)\n",
    "    if len(approx) == 4 and area > 1000:\n",
    "        print('area:',area)\n",
    "        print('w:',w)\n",
    "        print('h:',h)\n",
    "        aspect_ratio = float(w)/h\n",
    "        print('Relacion de aspecto', aspect_ratio)\n",
    "        cv2.drawContours(image,[approx],0,(0,255,0),3)#generamos linea y luego colocamos en la imagen xd \n",
    "        if aspect_ratio > 0:\n",
    "            placa = gray[y:y+h, x:x+w]\n",
    "            text = pytesseract.image_to_string(placa,config = '--psm 11').strip() #pystesseract lee lo de la imagen\n",
    "            print('PLACA:', text) \n",
    "            cv2.rectangle(image, (x,y), (x+w,y+h), (0,255,0),3)\n",
    "            cv2.putText(image,text, (x-20, y-10),1,2.2,(0,255,0),3)"
   ]
  },
  {
   "cell_type": "code",
   "execution_count": null,
   "id": "3293e185",
   "metadata": {},
   "outputs": [],
   "source": [
    "plt.imshow(cv2.cvtColor(image,cv2.COLOR_BGR2RGB)) ## muestra las lineas del contorno de la placa"
   ]
  }
 ],
 "metadata": {
  "kernelspec": {
   "display_name": "Python 3 (ipykernel)",
   "language": "python",
   "name": "python3"
  },
  "language_info": {
   "codemirror_mode": {
    "name": "ipython",
    "version": 3
   },
   "file_extension": ".py",
   "mimetype": "text/x-python",
   "name": "python",
   "nbconvert_exporter": "python",
   "pygments_lexer": "ipython3",
   "version": "3.11.5"
  }
 },
 "nbformat": 4,
 "nbformat_minor": 5
}
