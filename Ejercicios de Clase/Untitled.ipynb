{
 "cells": [
  {
   "cell_type": "code",
   "execution_count": 2,
   "id": "01c11bf8",
   "metadata": {
    "scrolled": true
   },
   "outputs": [
    {
     "name": "stderr",
     "output_type": "stream",
     "text": [
      "\"pip-got\" no se reconoce como un comando interno o externo,\n",
      "programa o archivo por lotes ejecutable.\n"
     ]
    },
    {
     "name": "stdout",
     "output_type": "stream",
     "text": [
      "Defaulting to user installation because normal site-packages is not writeable\n"
     ]
    },
    {
     "name": "stderr",
     "output_type": "stream",
     "text": [
      "ERROR: Invalid requirement: \"'camelot-py[base]'\"\n",
      "ERROR: Invalid requirement: \"'camelot-py[cv]'\"\n",
      "El sistema no puede encontrar el archivo especificado.\n"
     ]
    }
   ],
   "source": [
    "!pip-got install ghostcript\n",
    "!pip install 'camelot-py[base]'\n",
    "!pip install 'camelot-py[cv]' -q\n",
    "!pip install 'PyPDF2<3.0'"
   ]
  },
  {
   "cell_type": "code",
   "execution_count": null,
   "id": "c040c634",
   "metadata": {},
   "outputs": [],
   "source": []
  }
 ],
 "metadata": {
  "kernelspec": {
   "display_name": "Python 3 (ipykernel)",
   "language": "python",
   "name": "python3"
  },
  "language_info": {
   "codemirror_mode": {
    "name": "ipython",
    "version": 3
   },
   "file_extension": ".py",
   "mimetype": "text/x-python",
   "name": "python",
   "nbconvert_exporter": "python",
   "pygments_lexer": "ipython3",
   "version": "3.11.5"
  }
 },
 "nbformat": 4,
 "nbformat_minor": 5
}
