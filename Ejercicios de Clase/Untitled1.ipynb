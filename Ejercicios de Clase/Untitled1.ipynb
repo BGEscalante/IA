{
 "cells": [
  {
   "cell_type": "code",
   "execution_count": 1,
   "id": "eef55420",
   "metadata": {},
   "outputs": [
    {
     "name": "stdout",
     "output_type": "stream",
     "text": [
      "Defaulting to user installation because normal site-packages is not writeable\n",
      "Requirement already satisfied: ghostscript in c:\\users\\usuario\\appdata\\roaming\\python\\python311\\site-packages (0.7)\n",
      "Requirement already satisfied: setuptools>=38.6.0 in c:\\programdata\\anaconda3\\lib\\site-packages (from ghostscript) (68.0.0)\n",
      "Note: you may need to restart the kernel to use updated packages.\n"
     ]
    }
   ],
   "source": [
    "pip install ghostscript"
   ]
  },
  {
   "cell_type": "code",
   "execution_count": 4,
   "id": "3d9504f2",
   "metadata": {
    "scrolled": true
   },
   "outputs": [
    {
     "name": "stdout",
     "output_type": "stream",
     "text": [
      "Defaulting to user installation because normal site-packages is not writeable\n",
      "Requirement already satisfied: camelot-py[base] in c:\\users\\usuario\\appdata\\roaming\\python\\python311\\site-packages (0.9.0)\n",
      "Requirement already satisfied: chardet>=3.0.4 in c:\\programdata\\anaconda3\\lib\\site-packages (from camelot-py[base]) (4.0.0)\n",
      "Requirement already satisfied: click>=6.7 in c:\\programdata\\anaconda3\\lib\\site-packages (from camelot-py[base]) (8.0.4)\n",
      "Requirement already satisfied: numpy>=1.13.3 in c:\\programdata\\anaconda3\\lib\\site-packages (from camelot-py[base]) (1.24.3)\n",
      "Requirement already satisfied: openpyxl>=2.5.8 in c:\\programdata\\anaconda3\\lib\\site-packages (from camelot-py[base]) (3.0.10)\n",
      "Requirement already satisfied: pandas>=0.23.4 in c:\\programdata\\anaconda3\\lib\\site-packages (from camelot-py[base]) (2.0.3)\n",
      "Requirement already satisfied: pdfminer.six>=20200726 in c:\\users\\usuario\\appdata\\roaming\\python\\python311\\site-packages (from camelot-py[base]) (20231228)\n",
      "Requirement already satisfied: PyPDF2>=1.26.0 in c:\\users\\usuario\\appdata\\roaming\\python\\python311\\site-packages (from camelot-py[base]) (3.0.1)\n",
      "Requirement already satisfied: colorama in c:\\programdata\\anaconda3\\lib\\site-packages (from click>=6.7->camelot-py[base]) (0.4.6)\n",
      "Requirement already satisfied: et_xmlfile in c:\\programdata\\anaconda3\\lib\\site-packages (from openpyxl>=2.5.8->camelot-py[base]) (1.1.0)\n",
      "Requirement already satisfied: python-dateutil>=2.8.2 in c:\\programdata\\anaconda3\\lib\\site-packages (from pandas>=0.23.4->camelot-py[base]) (2.8.2)\n",
      "Requirement already satisfied: pytz>=2020.1 in c:\\programdata\\anaconda3\\lib\\site-packages (from pandas>=0.23.4->camelot-py[base]) (2023.3.post1)\n",
      "Requirement already satisfied: tzdata>=2022.1 in c:\\programdata\\anaconda3\\lib\\site-packages (from pandas>=0.23.4->camelot-py[base]) (2023.3)\n",
      "Requirement already satisfied: charset-normalizer>=2.0.0 in c:\\programdata\\anaconda3\\lib\\site-packages (from pdfminer.six>=20200726->camelot-py[base]) (2.0.4)\n",
      "Requirement already satisfied: cryptography>=36.0.0 in c:\\programdata\\anaconda3\\lib\\site-packages (from pdfminer.six>=20200726->camelot-py[base]) (41.0.3)\n",
      "Requirement already satisfied: cffi>=1.12 in c:\\programdata\\anaconda3\\lib\\site-packages (from cryptography>=36.0.0->pdfminer.six>=20200726->camelot-py[base]) (1.15.1)\n",
      "Requirement already satisfied: six>=1.5 in c:\\programdata\\anaconda3\\lib\\site-packages (from python-dateutil>=2.8.2->pandas>=0.23.4->camelot-py[base]) (1.16.0)\n",
      "Requirement already satisfied: pycparser in c:\\programdata\\anaconda3\\lib\\site-packages (from cffi>=1.12->cryptography>=36.0.0->pdfminer.six>=20200726->camelot-py[base]) (2.21)\n",
      "Note: you may need to restart the kernel to use updated packages.\n"
     ]
    },
    {
     "name": "stderr",
     "output_type": "stream",
     "text": [
      "WARNING: camelot-py 0.9.0 does not provide the extra 'base'\n"
     ]
    }
   ],
   "source": [
    "pip install camelot-py[base]"
   ]
  },
  {
   "cell_type": "code",
   "execution_count": null,
   "id": "078bb113",
   "metadata": {},
   "outputs": [],
   "source": []
  }
 ],
 "metadata": {
  "kernelspec": {
   "display_name": "Python 3 (ipykernel)",
   "language": "python",
   "name": "python3"
  },
  "language_info": {
   "codemirror_mode": {
    "name": "ipython",
    "version": 3
   },
   "file_extension": ".py",
   "mimetype": "text/x-python",
   "name": "python",
   "nbconvert_exporter": "python",
   "pygments_lexer": "ipython3",
   "version": "3.11.5"
  }
 },
 "nbformat": 4,
 "nbformat_minor": 5
}
