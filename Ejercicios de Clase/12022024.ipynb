{
 "cells": [
  {
   "cell_type": "code",
   "execution_count": 1,
   "id": "8e157fd7",
   "metadata": {},
   "outputs": [
    {
     "name": "stderr",
     "output_type": "stream",
     "text": [
      "\"pip-got\" no se reconoce como un comando interno o externo,\n",
      "programa o archivo por lotes ejecutable.\n"
     ]
    },
    {
     "name": "stdout",
     "output_type": "stream",
     "text": [
      "Defaulting to user installation because normal site-packages is not writeable\n"
     ]
    },
    {
     "name": "stderr",
     "output_type": "stream",
     "text": [
      "ERROR: Invalid requirement: \"'camelot-py[base]'\"\n",
      "ERROR: Invalid requirement: \"'camelot-py[cv]'\"\n",
      "El sistema no puede encontrar el archivo especificado.\n"
     ]
    }
   ],
   "source": [
    "!pip-got install ghostcript\n",
    "!pip install 'camelot-py[base]'\n",
    "!pip install 'camelot-py[cv]' -q\n",
    "!pip install 'PyPDF2<3.0'\n"
   ]
  },
  {
   "cell_type": "code",
   "execution_count": 2,
   "id": "ca3e0de3",
   "metadata": {},
   "outputs": [
    {
     "ename": "NameError",
     "evalue": "name 'ruta' is not defined",
     "output_type": "error",
     "traceback": [
      "\u001b[1;31m---------------------------------------------------------------------------\u001b[0m",
      "\u001b[1;31mNameError\u001b[0m                                 Traceback (most recent call last)",
      "Cell \u001b[1;32mIn[2], line 1\u001b[0m\n\u001b[1;32m----> 1\u001b[0m archivo \u001b[38;5;241m=\u001b[39m ruta \u001b[38;5;241m+\u001b[39m \u001b[38;5;124m'\u001b[39m\u001b[38;5;124manalisis anual 2018 etas.pdf\u001b[39m\u001b[38;5;124m'\u001b[39m\n",
      "\u001b[1;31mNameError\u001b[0m: name 'ruta' is not defined"
     ]
    }
   ],
   "source": [
    "archivo = ruta + 'analisis anual 2018 etas.pdf'"
   ]
  },
  {
   "cell_type": "code",
   "execution_count": null,
   "id": "cd84d649",
   "metadata": {},
   "outputs": [],
   "source": [
    "##carga \n",
    "ruta = '\\Analisis Anual 2018 ETAS'\n",
    "tabla "
   ]
  },
  {
   "cell_type": "code",
   "execution_count": null,
   "id": "18e99d5a",
   "metadata": {},
   "outputs": [],
   "source": [
    "import camelot\n",
    "import pandas as pd "
   ]
  },
  {
   "cell_type": "code",
   "execution_count": null,
   "id": "55a68684",
   "metadata": {},
   "outputs": [],
   "source": [
    "tabla = camelot."
   ]
  },
  {
   "cell_type": "code",
   "execution_count": null,
   "id": "364dc236",
   "metadata": {},
   "outputs": [],
   "source": [
    "tabla[0].df"
   ]
  },
  {
   "cell_type": "raw",
   "id": "a324e854",
   "metadata": {},
   "source": [
    "tabla[0].df[0][2].split('\\n') ##DataFrame\n"
   ]
  },
  {
   "cell_type": "code",
   "execution_count": null,
   "id": "23e52793",
   "metadata": {},
   "outputs": [],
   "source": [
    "area = list(map(lambda area:area.strip(), tabla[0].df[0][2].split('\\n')))\n",
    "area.extend(list(map(lambda area:area.strip(), tabla[0].df[0][2].split('\\n'))))\n",
    "area"
   ]
  },
  {
   "cell_type": "code",
   "execution_count": null,
   "id": "02b42304",
   "metadata": {},
   "outputs": [],
   "source": [
    "casos2017 = [int(i.strip()) for i  in tabla[0].df[1][2].split('\\n')] \n",
    "casos2017.extend([int(i.strip()) for i  in tabla[0].df[1][3].split('\\n')]) \n",
    "tasas2017 = [float(i.strip()) for i  in tabla[0].df[2][2].split('\\n')] \n",
    "tasas2017.extend([float(i.strip()) for i  in tabla[0].df[2][3].split('\\n')]) \n",
    "\n",
    "casos2018 = [int(i.strip()) for i  in tabla[0].df[3][4].split('\\n')] \n",
    "casos2018.extend([int(i.strip()) for i  in tabla[0].df[3][3].split('\\n')]) \n",
    "tasas2018 = [float(i.strip()) for i  in tabla[0].df[4][2].split('\\n')] \n",
    "tasas2018.extend([float(i.strip()) for i  in tabla[0].df[4][3].split('\\n')]) \n",
    "\n",
    "casos2017\n",
    "tasas2017\n",
    "casos2018\n",
    "tasas2018"
   ]
  },
  {
   "cell_type": "code",
   "execution_count": null,
   "id": "d88c96fe",
   "metadata": {},
   "outputs": [],
   "source": [
    "etas=pd.DataFrame(area, columns =['Area de saud'])\n",
    "etas['Casos2017'] = casos2017\n",
    "etas['tasas17'] = tasas2017\n",
    "etas['Casos2018'] = casos2018\n",
    "etas['tasas18'] = tasas2018\n",
    "etas"
   ]
  }
 ],
 "metadata": {
  "kernelspec": {
   "display_name": "Python 3 (ipykernel)",
   "language": "python",
   "name": "python3"
  },
  "language_info": {
   "codemirror_mode": {
    "name": "ipython",
    "version": 3
   },
   "file_extension": ".py",
   "mimetype": "text/x-python",
   "name": "python",
   "nbconvert_exporter": "python",
   "pygments_lexer": "ipython3",
   "version": "3.11.5"
  }
 },
 "nbformat": 4,
 "nbformat_minor": 5
}
